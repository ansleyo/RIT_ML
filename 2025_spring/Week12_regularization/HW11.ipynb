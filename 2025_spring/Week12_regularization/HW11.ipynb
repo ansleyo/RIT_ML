{
  "nbformat": 4,
  "nbformat_minor": 0,
  "metadata": {
    "colab": {
      "provenance": []
    },
    "kernelspec": {
      "name": "python3",
      "display_name": "Python 3"
    },
    "language_info": {
      "name": "python"
    }
  },
  "cells": [
    {
      "cell_type": "markdown",
      "source": [
        "# Homework 11 (20pt)\n",
        "\n",
        "In this assignment, you will apply an MLP/FFN (remember, multilayer perceptron and fully connected neural network mean the same thing) for handwritten digit recognition.\n",
        "\n",
        "__Do not__ use datasets with preprocessed images in NumPy or Torch formats. You can either upload the data to Google Drive and mount it in Colab (so, you don't need to upload it every time), or download it manually from:  \n",
        "https://www.kaggle.com/datasets/playlist/mnistzip/\n",
        "\n",
        "Submit your Jupyter notebook, the saved model weights, and the images from the last question. You may submit multiple files or a single archived (e.g., `.zip`) file.\n"
      ],
      "metadata": {
        "id": "Zp5Oj61Q08a2"
      }
    },
    {
      "cell_type": "markdown",
      "source": [
        "### Q1 (1pt) Download MNIST dataset"
      ],
      "metadata": {
        "id": "r4sbihcf20ww"
      }
    },
    {
      "cell_type": "code",
      "source": [
        "from google.colab import drive\n",
        "drive.mount('/content/drive')"
      ],
      "metadata": {
        "id": "wiiNp7nbErwh",
        "outputId": "9b82d6b4-180c-4015-b5f7-7a55fb5d219b",
        "colab": {
          "base_uri": "https://localhost:8080/"
        }
      },
      "execution_count": 3,
      "outputs": [
        {
          "output_type": "stream",
          "name": "stdout",
          "text": [
            "Mounted at /content/drive\n"
          ]
        }
      ]
    },
    {
      "cell_type": "code",
      "source": [
        "import zipfile\n",
        "import os\n",
        "\n",
        "zip_path = '/content/drive/My Drive/MLP_MNIST/archive.zip'\n",
        "extract_path = '/content/mnist_data'\n",
        "\n",
        "with zipfile.ZipFile(zip_path, 'r') as zip_ref:\n",
        "    zip_ref.extractall(extract_path)\n",
        "\n",
        "print(\"Extracted files:\", os.listdir(extract_path))"
      ],
      "metadata": {
        "id": "qBwx2QjI3A_F",
        "outputId": "d260f6f4-18f4-434d-e74e-39d31c482d63",
        "colab": {
          "base_uri": "https://localhost:8080/"
        }
      },
      "execution_count": 4,
      "outputs": [
        {
          "output_type": "stream",
          "name": "stdout",
          "text": [
            "Extracted files: ['mnist_png']\n"
          ]
        }
      ]
    },
    {
      "cell_type": "code",
      "source": [
        "import torch\n",
        "from torch.utils.data import DataLoader\n",
        "from torchvision import datasets, transforms\n",
        "\n",
        "data_dir = '/content/mnist_data/mnist_png'\n",
        "\n",
        "transform = transforms.Compose([\n",
        "    transforms.Grayscale(num_output_channels=1),\n",
        "    transforms.ToTensor(),\n",
        "    transforms.Normalize((0.5,), (0.5,))\n",
        "])"
      ],
      "metadata": {
        "id": "4jmiODtR3BCr"
      },
      "execution_count": 20,
      "outputs": []
    },
    {
      "cell_type": "markdown",
      "source": [
        "### Q2 (2pt) Create Train and Validation Dataset and DataLoader objects"
      ],
      "metadata": {
        "id": "EgZnMPn03Byi"
      }
    },
    {
      "cell_type": "code",
      "source": [
        "# Load train and validation datasets directly\n",
        "train_dataset = datasets.ImageFolder(root='/content/mnist_data/mnist_png/train', transform=transform)\n",
        "val_dataset = datasets.ImageFolder(root='/content/mnist_data/mnist_png/valid', transform=transform)"
      ],
      "metadata": {
        "id": "waNaEgVfIkd_"
      },
      "execution_count": 21,
      "outputs": []
    },
    {
      "cell_type": "code",
      "source": [
        "train_loader = DataLoader(train_dataset, batch_size=64, shuffle=True)\n",
        "val_loader = DataLoader(val_dataset, batch_size=64, shuffle=False)"
      ],
      "metadata": {
        "id": "xtY9EfatIkUi"
      },
      "execution_count": 22,
      "outputs": []
    },
    {
      "cell_type": "markdown",
      "source": [
        "### Q3 (4pt) Define the model: the number of hidden layers and their size/dimentions. Make sure you are using __more than one hidden layer__"
      ],
      "metadata": {
        "id": "EPnyhzLX3JiG"
      }
    },
    {
      "cell_type": "code",
      "source": [
        "import torch.nn as nn\n",
        "import torch.nn.functional as F"
      ],
      "metadata": {
        "id": "ot3nwbnK3PJN"
      },
      "execution_count": 23,
      "outputs": []
    },
    {
      "cell_type": "code",
      "source": [
        "class MLP(nn.Module):\n",
        "    def __init__(self):\n",
        "        super(MLP, self).__init__()\n",
        "        self.flatten = nn.Flatten()\n",
        "\n",
        "        self.fc1 = nn.Linear(28 * 28, 256)  # input → hidden layer 1\n",
        "        self.fc2 = nn.Linear(256, 128)      # hidden layer 1 → hidden layer 2\n",
        "        self.fc3 = nn.Linear(128, 64)       # hidden layer 2 → hidden layer 3\n",
        "        self.output = nn.Linear(64, 10)     # hidden layer 3 → output (10 classes)\n",
        "\n",
        "    def forward(self, x):\n",
        "        x = self.flatten(x)\n",
        "        x = F.relu(self.fc1(x))   # ReLU after each layer\n",
        "        x = F.relu(self.fc2(x))\n",
        "        x = F.relu(self.fc3(x))\n",
        "        x = self.output(x)        # No softmax here (use CrossEntropyLoss)\n",
        "        return x"
      ],
      "metadata": {
        "id": "z0GBB7EC3X1f"
      },
      "execution_count": 24,
      "outputs": []
    },
    {
      "cell_type": "markdown",
      "source": [
        "### Q4 (4pt) Write the training loop. Use accuracy as the metric on the Validation set. You can use early stopping or just observe the validation curve"
      ],
      "metadata": {
        "id": "4pIA4yHI3Y1l"
      }
    },
    {
      "cell_type": "code",
      "source": [
        "import torch\n",
        "import torch.optim as optim\n",
        "import torch.nn.functional as F\n",
        "from sklearn.metrics import accuracy_score\n",
        "\n",
        "# Initialize the model, loss function, and optimizer\n",
        "device = torch.device(\"cuda\" if torch.cuda.is_available() else \"cpu\")\n",
        "model = MLP().to(device)\n",
        "criterion = nn.CrossEntropyLoss()\n",
        "optimizer = optim.Adam(model.parameters(), lr=0.001)\n",
        "\n",
        "# Training function\n",
        "def train(model, train_loader, optimizer, criterion):\n",
        "    model.train()\n",
        "    running_loss = 0.0\n",
        "    correct = 0\n",
        "    total = 0\n",
        "\n",
        "    for data, target in train_loader:\n",
        "        data, target = data.to(device), target.to(device)\n",
        "\n",
        "        optimizer.zero_grad()\n",
        "\n",
        "        output = model(data)\n",
        "        loss = criterion(output, target)\n",
        "\n",
        "        loss.backward()\n",
        "        optimizer.step()\n",
        "\n",
        "        running_loss += loss.item()\n",
        "\n",
        "        _, predicted = torch.max(output, 1)\n",
        "        total += target.size(0)\n",
        "        correct += (predicted == target).sum().item()\n",
        "\n",
        "    avg_loss = running_loss / len(train_loader)\n",
        "    accuracy = 100 * correct / total\n",
        "    return avg_loss, accuracy\n",
        "\n",
        "# Validation function\n",
        "def validate(model, val_loader, criterion):\n",
        "    model.eval()\n",
        "    running_loss = 0.0\n",
        "    correct = 0\n",
        "    total = 0\n",
        "\n",
        "    with torch.no_grad():\n",
        "        for data, target in val_loader:\n",
        "            data, target = data.to(device), target.to(device)\n",
        "\n",
        "            output = model(data)\n",
        "            loss = criterion(output, target)\n",
        "\n",
        "            running_loss += loss.item()\n",
        "\n",
        "            _, predicted = torch.max(output, 1)\n",
        "            total += target.size(0)\n",
        "            correct += (predicted == target).sum().item()\n",
        "\n",
        "    avg_loss = running_loss / len(val_loader)\n",
        "    accuracy = 100 * correct / total\n",
        "    return avg_loss, accuracy"
      ],
      "metadata": {
        "id": "NJK6M2BQ3ldK"
      },
      "execution_count": 28,
      "outputs": []
    },
    {
      "cell_type": "code",
      "source": [
        "import matplotlib.pyplot as plt\n",
        "\n",
        "# Hyperparameters\n",
        "num_epochs = 20\n",
        "patience = 3  # Early stopping patience (stop if no improvement for 3 epochs)\n",
        "\n",
        "# Initialize variables to track progress\n",
        "train_losses, val_losses = [], []\n",
        "train_accuracies, val_accuracies = [], []\n",
        "best_val_accuracy = 0\n",
        "epochs_without_improvement = 0\n",
        "\n",
        "# Training loop\n",
        "for epoch in range(num_epochs):\n",
        "    print(f\"Epoch {epoch + 1}/{num_epochs}\")\n",
        "\n",
        "    # Training phase\n",
        "    train_loss, train_accuracy = train(model, train_loader, optimizer, criterion)\n",
        "    train_losses.append(train_loss)\n",
        "    train_accuracies.append(train_accuracy)\n",
        "\n",
        "    # Validation phase\n",
        "    val_loss, val_accuracy = validate(model, val_loader, criterion)\n",
        "    val_losses.append(val_loss)\n",
        "    val_accuracies.append(val_accuracy)\n",
        "\n",
        "    print(f\"Train Loss: {train_loss:.4f}, Train Accuracy: {train_accuracy:.2f}%\")\n",
        "    print(f\"Val Loss: {val_loss:.4f}, Val Accuracy: {val_accuracy:.2f}%\")\n",
        "\n",
        "    # Early stopping check\n",
        "    if val_accuracy > best_val_accuracy:\n",
        "        best_val_accuracy = val_accuracy\n",
        "        epochs_without_improvement = 0\n",
        "    else:\n",
        "        epochs_without_improvement += 1\n",
        "\n",
        "    if epochs_without_improvement >= patience:\n",
        "        print(\"Early stopping triggered\")\n",
        "        break\n",
        "\n",
        "# Plotting training and validation accuracy curves\n",
        "plt.plot(train_accuracies, label='Train Accuracy')\n",
        "plt.plot(val_accuracies, label='Validation Accuracy')\n",
        "plt.xlabel('Epochs')\n",
        "plt.ylabel('Accuracy (%)')\n",
        "plt.legend()\n",
        "plt.title('Training and Validation Accuracy')\n",
        "plt.show()"
      ],
      "metadata": {
        "id": "xfcV2hLX3lmg",
        "outputId": "1c140ce2-b618-49b0-8028-98fffd9a3c51",
        "colab": {
          "base_uri": "https://localhost:8080/",
          "height": 1000
        }
      },
      "execution_count": 29,
      "outputs": [
        {
          "output_type": "stream",
          "name": "stdout",
          "text": [
            "Epoch 1/20\n",
            "Train Loss: 0.4002, Train Accuracy: 87.54%\n",
            "Val Loss: 0.1950, Val Accuracy: 94.14%\n",
            "Epoch 2/20\n",
            "Train Loss: 0.1699, Train Accuracy: 94.70%\n",
            "Val Loss: 0.1394, Val Accuracy: 95.77%\n",
            "Epoch 3/20\n",
            "Train Loss: 0.1240, Train Accuracy: 96.13%\n",
            "Val Loss: 0.1388, Val Accuracy: 95.62%\n",
            "Epoch 4/20\n",
            "Train Loss: 0.1016, Train Accuracy: 96.80%\n",
            "Val Loss: 0.1030, Val Accuracy: 96.80%\n",
            "Epoch 5/20\n",
            "Train Loss: 0.0873, Train Accuracy: 97.21%\n",
            "Val Loss: 0.1047, Val Accuracy: 96.64%\n",
            "Epoch 6/20\n",
            "Train Loss: 0.0752, Train Accuracy: 97.59%\n",
            "Val Loss: 0.0934, Val Accuracy: 97.02%\n",
            "Epoch 7/20\n",
            "Train Loss: 0.0658, Train Accuracy: 97.93%\n",
            "Val Loss: 0.0945, Val Accuracy: 96.93%\n",
            "Epoch 8/20\n",
            "Train Loss: 0.0613, Train Accuracy: 97.98%\n",
            "Val Loss: 0.0858, Val Accuracy: 97.22%\n",
            "Epoch 9/20\n",
            "Train Loss: 0.0565, Train Accuracy: 98.14%\n",
            "Val Loss: 0.0879, Val Accuracy: 97.42%\n",
            "Epoch 10/20\n",
            "Train Loss: 0.0499, Train Accuracy: 98.36%\n",
            "Val Loss: 0.0864, Val Accuracy: 97.42%\n",
            "Epoch 11/20\n",
            "Train Loss: 0.0411, Train Accuracy: 98.62%\n",
            "Val Loss: 0.0756, Val Accuracy: 97.65%\n",
            "Epoch 12/20\n",
            "Train Loss: 0.0427, Train Accuracy: 98.59%\n",
            "Val Loss: 0.0889, Val Accuracy: 97.35%\n",
            "Epoch 13/20\n",
            "Train Loss: 0.0375, Train Accuracy: 98.75%\n",
            "Val Loss: 0.0981, Val Accuracy: 97.27%\n",
            "Epoch 14/20\n",
            "Train Loss: 0.0363, Train Accuracy: 98.82%\n",
            "Val Loss: 0.1016, Val Accuracy: 97.08%\n",
            "Early stopping triggered\n"
          ]
        },
        {
          "output_type": "display_data",
          "data": {
            "text/plain": [
              "<Figure size 640x480 with 1 Axes>"
            ],
            "image/png": "[encoded data removed]"
          },
          "metadata": {}
        }
      ]
    },
    {
      "cell_type": "markdown",
      "source": [
        "### Q5 (2pt) Plot the training loss and validation accuracy. You can use Tensorboard"
      ],
      "metadata": {
        "id": "_qVjrvSy3l7K"
      }
    },
    {
      "cell_type": "code",
      "source": [],
      "metadata": {
        "id": "8XF-u-dX3rhh"
      },
      "execution_count": null,
      "outputs": []
    },
    {
      "cell_type": "code",
      "source": [],
      "metadata": {
        "id": "KJHd0d5A3sCH"
      },
      "execution_count": null,
      "outputs": []
    },
    {
      "cell_type": "code",
      "source": [],
      "metadata": {
        "id": "GJ30cPha3sFl"
      },
      "execution_count": null,
      "outputs": []
    },
    {
      "cell_type": "code",
      "source": [],
      "metadata": {
        "id": "3dP__JAt3sP-"
      },
      "execution_count": null,
      "outputs": []
    },
    {
      "cell_type": "markdown",
      "source": [
        "### Q6 (3pt) Calculate the accuracy on the validation set. __It should be > 0.97__"
      ],
      "metadata": {
        "id": "tFkdl2Xs3si9"
      }
    },
    {
      "cell_type": "code",
      "source": [],
      "metadata": {
        "id": "1wQEkPFl3x5i"
      },
      "execution_count": null,
      "outputs": []
    },
    {
      "cell_type": "code",
      "source": [],
      "metadata": {
        "id": "TMbsBDWy34Cn"
      },
      "execution_count": null,
      "outputs": []
    },
    {
      "cell_type": "code",
      "source": [],
      "metadata": {
        "id": "F48kqgfK34Ez"
      },
      "execution_count": null,
      "outputs": []
    },
    {
      "cell_type": "code",
      "source": [],
      "metadata": {
        "id": "M_ubzHBR34IT"
      },
      "execution_count": null,
      "outputs": []
    },
    {
      "cell_type": "markdown",
      "source": [
        "### Q7 (4pt) Create three images, one with a digit not in the middle, and apply your trained model to them"
      ],
      "metadata": {
        "id": "6cBGfin534jm"
      }
    },
    {
      "cell_type": "code",
      "source": [],
      "metadata": {
        "id": "wWIb3bVn3-ku"
      },
      "execution_count": null,
      "outputs": []
    }
  ]
}